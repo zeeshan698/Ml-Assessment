{
 "cells": [
  {
   "cell_type": "markdown",
   "metadata": {},
   "source": [
    "# Build a model to calculate the probability that a car is made by one of the  \n",
    "# top 25 manufacturers in this dataset based on the uncorrupted features"
   ]
  },
  {
   "cell_type": "code",
   "execution_count": 6,
   "metadata": {},
   "outputs": [],
   "source": [
    "import pandas as pd\n",
    "import xgboost as xgb\n",
    "from xgboost.sklearn import XGBClassifier\n",
    "from sklearn.metrics import accuracy_score\n",
    "#import packages for hyperparameters tuning\n",
    "from sklearn.metrics import accuracy_score,f1_score\n",
    "from sklearn.model_selection import train_test_split"
   ]
  },
  {
   "cell_type": "code",
   "execution_count": 7,
   "metadata": {},
   "outputs": [
    {
     "name": "stderr",
     "output_type": "stream",
     "text": [
      "C:\\Users\\hp\\anaconda3\\lib\\site-packages\\IPython\\core\\interactiveshell.py:3146: DtypeWarning: Columns (0,7) have mixed types.Specify dtype option on import or set low_memory=False.\n",
      "  has_raised = await self.run_ast_nodes(code_ast.body, cell_name,\n"
     ]
    }
   ],
   "source": [
    "data=pd.read_csv(r'C:\\Users\\hp\\Documents\\Assesment_2\\parking_citations.corrupted.csv',parse_dates=['Issue Date'])"
   ]
  },
  {
   "cell_type": "code",
   "execution_count": 8,
   "metadata": {},
   "outputs": [
    {
     "data": {
      "text/html": [
       "<div>\n",
       "<style scoped>\n",
       "    .dataframe tbody tr th:only-of-type {\n",
       "        vertical-align: middle;\n",
       "    }\n",
       "\n",
       "    .dataframe tbody tr th {\n",
       "        vertical-align: top;\n",
       "    }\n",
       "\n",
       "    .dataframe thead th {\n",
       "        text-align: right;\n",
       "    }\n",
       "</style>\n",
       "<table border=\"1\" class=\"dataframe\">\n",
       "  <thead>\n",
       "    <tr style=\"text-align: right;\">\n",
       "      <th></th>\n",
       "      <th>Ticket number</th>\n",
       "      <th>Issue Date</th>\n",
       "      <th>Issue time</th>\n",
       "      <th>Meter Id</th>\n",
       "      <th>Marked Time</th>\n",
       "      <th>RP State Plate</th>\n",
       "      <th>Plate Expiry Date</th>\n",
       "      <th>VIN</th>\n",
       "      <th>Make</th>\n",
       "      <th>Body Style</th>\n",
       "      <th>Color</th>\n",
       "      <th>Location</th>\n",
       "      <th>Route</th>\n",
       "      <th>Agency</th>\n",
       "      <th>Violation code</th>\n",
       "      <th>Violation Description</th>\n",
       "      <th>Fine amount</th>\n",
       "      <th>Latitude</th>\n",
       "      <th>Longitude</th>\n",
       "    </tr>\n",
       "  </thead>\n",
       "  <tbody>\n",
       "    <tr>\n",
       "      <th>0</th>\n",
       "      <td>1103341116</td>\n",
       "      <td>2015-12-21</td>\n",
       "      <td>1251.0</td>\n",
       "      <td>NaN</td>\n",
       "      <td>NaN</td>\n",
       "      <td>CA</td>\n",
       "      <td>200304.0</td>\n",
       "      <td>NaN</td>\n",
       "      <td>NaN</td>\n",
       "      <td>PA</td>\n",
       "      <td>GY</td>\n",
       "      <td>13147 WELBY WAY</td>\n",
       "      <td>01521</td>\n",
       "      <td>1.0</td>\n",
       "      <td>4000A1</td>\n",
       "      <td>NO EVIDENCE OF REG</td>\n",
       "      <td>50.0</td>\n",
       "      <td>99999.0</td>\n",
       "      <td>99999.0</td>\n",
       "    </tr>\n",
       "    <tr>\n",
       "      <th>1</th>\n",
       "      <td>1103700150</td>\n",
       "      <td>2015-12-21</td>\n",
       "      <td>1435.0</td>\n",
       "      <td>NaN</td>\n",
       "      <td>NaN</td>\n",
       "      <td>CA</td>\n",
       "      <td>201512.0</td>\n",
       "      <td>NaN</td>\n",
       "      <td>NaN</td>\n",
       "      <td>VN</td>\n",
       "      <td>WH</td>\n",
       "      <td>525 S MAIN ST</td>\n",
       "      <td>1C51</td>\n",
       "      <td>1.0</td>\n",
       "      <td>4000A1</td>\n",
       "      <td>NO EVIDENCE OF REG</td>\n",
       "      <td>50.0</td>\n",
       "      <td>99999.0</td>\n",
       "      <td>99999.0</td>\n",
       "    </tr>\n",
       "    <tr>\n",
       "      <th>2</th>\n",
       "      <td>1104803000</td>\n",
       "      <td>2015-12-21</td>\n",
       "      <td>2055.0</td>\n",
       "      <td>NaN</td>\n",
       "      <td>NaN</td>\n",
       "      <td>CA</td>\n",
       "      <td>201503.0</td>\n",
       "      <td>NaN</td>\n",
       "      <td>NaN</td>\n",
       "      <td>PA</td>\n",
       "      <td>BK</td>\n",
       "      <td>200 WORLD WAY</td>\n",
       "      <td>2R2</td>\n",
       "      <td>2.0</td>\n",
       "      <td>8939</td>\n",
       "      <td>WHITE CURB</td>\n",
       "      <td>58.0</td>\n",
       "      <td>6439997.9</td>\n",
       "      <td>1802686.4</td>\n",
       "    </tr>\n",
       "    <tr>\n",
       "      <th>3</th>\n",
       "      <td>1104820732</td>\n",
       "      <td>2015-12-26</td>\n",
       "      <td>1515.0</td>\n",
       "      <td>NaN</td>\n",
       "      <td>NaN</td>\n",
       "      <td>CA</td>\n",
       "      <td>NaN</td>\n",
       "      <td>NaN</td>\n",
       "      <td>NaN</td>\n",
       "      <td>PA</td>\n",
       "      <td>WH</td>\n",
       "      <td>100 WORLD WAY</td>\n",
       "      <td>2F11</td>\n",
       "      <td>2.0</td>\n",
       "      <td>000</td>\n",
       "      <td>17104h</td>\n",
       "      <td>NaN</td>\n",
       "      <td>6440041.1</td>\n",
       "      <td>1802686.2</td>\n",
       "    </tr>\n",
       "    <tr>\n",
       "      <th>4</th>\n",
       "      <td>1105461453</td>\n",
       "      <td>2015-09-15</td>\n",
       "      <td>115.0</td>\n",
       "      <td>NaN</td>\n",
       "      <td>NaN</td>\n",
       "      <td>CA</td>\n",
       "      <td>200316.0</td>\n",
       "      <td>NaN</td>\n",
       "      <td>CHEV</td>\n",
       "      <td>PA</td>\n",
       "      <td>BK</td>\n",
       "      <td>GEORGIA ST/OLYMPIC</td>\n",
       "      <td>1FB70</td>\n",
       "      <td>1.0</td>\n",
       "      <td>8069A</td>\n",
       "      <td>NO STOPPING/STANDING</td>\n",
       "      <td>93.0</td>\n",
       "      <td>99999.0</td>\n",
       "      <td>99999.0</td>\n",
       "    </tr>\n",
       "  </tbody>\n",
       "</table>\n",
       "</div>"
      ],
      "text/plain": [
       "  Ticket number Issue Date  Issue time Meter Id  Marked Time RP State Plate  \\\n",
       "0    1103341116 2015-12-21      1251.0      NaN          NaN             CA   \n",
       "1    1103700150 2015-12-21      1435.0      NaN          NaN             CA   \n",
       "2    1104803000 2015-12-21      2055.0      NaN          NaN             CA   \n",
       "3    1104820732 2015-12-26      1515.0      NaN          NaN             CA   \n",
       "4    1105461453 2015-09-15       115.0      NaN          NaN             CA   \n",
       "\n",
       "   Plate Expiry Date  VIN  Make Body Style Color            Location  Route  \\\n",
       "0           200304.0  NaN   NaN         PA    GY     13147 WELBY WAY  01521   \n",
       "1           201512.0  NaN   NaN         VN    WH       525 S MAIN ST   1C51   \n",
       "2           201503.0  NaN   NaN         PA    BK       200 WORLD WAY    2R2   \n",
       "3                NaN  NaN   NaN         PA    WH       100 WORLD WAY   2F11   \n",
       "4           200316.0  NaN  CHEV         PA    BK  GEORGIA ST/OLYMPIC  1FB70   \n",
       "\n",
       "   Agency Violation code Violation Description  Fine amount   Latitude  \\\n",
       "0     1.0         4000A1    NO EVIDENCE OF REG         50.0    99999.0   \n",
       "1     1.0         4000A1    NO EVIDENCE OF REG         50.0    99999.0   \n",
       "2     2.0           8939            WHITE CURB         58.0  6439997.9   \n",
       "3     2.0            000                17104h          NaN  6440041.1   \n",
       "4     1.0          8069A  NO STOPPING/STANDING         93.0    99999.0   \n",
       "\n",
       "   Longitude  \n",
       "0    99999.0  \n",
       "1    99999.0  \n",
       "2  1802686.4  \n",
       "3  1802686.2  \n",
       "4    99999.0  "
      ]
     },
     "execution_count": 8,
     "metadata": {},
     "output_type": "execute_result"
    }
   ],
   "source": [
    "data.head()"
   ]
  },
  {
   "cell_type": "code",
   "execution_count": 9,
   "metadata": {},
   "outputs": [
    {
     "data": {
      "text/plain": [
       "(8726014, 19)"
      ]
     },
     "execution_count": 9,
     "metadata": {},
     "output_type": "execute_result"
    }
   ],
   "source": [
    "data.shape"
   ]
  },
  {
   "cell_type": "code",
   "execution_count": 10,
   "metadata": {},
   "outputs": [
    {
     "name": "stdout",
     "output_type": "stream",
     "text": [
      "<class 'pandas.core.frame.DataFrame'>\n",
      "RangeIndex: 8726014 entries, 0 to 8726013\n",
      "Data columns (total 19 columns):\n",
      " #   Column                 Dtype         \n",
      "---  ------                 -----         \n",
      " 0   Ticket number          object        \n",
      " 1   Issue Date             datetime64[ns]\n",
      " 2   Issue time             float64       \n",
      " 3   Meter Id               object        \n",
      " 4   Marked Time            float64       \n",
      " 5   RP State Plate         object        \n",
      " 6   Plate Expiry Date      float64       \n",
      " 7   VIN                    object        \n",
      " 8   Make                   object        \n",
      " 9   Body Style             object        \n",
      " 10  Color                  object        \n",
      " 11  Location               object        \n",
      " 12  Route                  object        \n",
      " 13  Agency                 float64       \n",
      " 14  Violation code         object        \n",
      " 15  Violation Description  object        \n",
      " 16  Fine amount            float64       \n",
      " 17  Latitude               float64       \n",
      " 18  Longitude              float64       \n",
      "dtypes: datetime64[ns](1), float64(7), object(11)\n",
      "memory usage: 1.2+ GB\n"
     ]
    }
   ],
   "source": [
    "data.info()"
   ]
  },
  {
   "cell_type": "code",
   "execution_count": 11,
   "metadata": {},
   "outputs": [],
   "source": [
    "#data_25=data['Make'].value_counts()[:25]"
   ]
  },
  {
   "cell_type": "code",
   "execution_count": 12,
   "metadata": {},
   "outputs": [],
   "source": [
    "#data_25=pd.DataFrame(data_25)"
   ]
  },
  {
   "cell_type": "code",
   "execution_count": 13,
   "metadata": {},
   "outputs": [],
   "source": [
    "#data_25.drop(['Make'],axis=1,inplace=True)"
   ]
  },
  {
   "cell_type": "code",
   "execution_count": 14,
   "metadata": {},
   "outputs": [],
   "source": [
    "#data_25"
   ]
  },
  {
   "cell_type": "code",
   "execution_count": 15,
   "metadata": {},
   "outputs": [],
   "source": [
    "#data['classification']=data['Make'].replace(to_replace=[\"TOYT\",\"HOND\",\"FORD\",\"NISS\",\"CHEV\",\"BMW\",\"MERZ\",\"VOLK\",\"HYUN\",\"DODG\",\"LEXS\",\"KIA\",\"JEEP\",\"AUDI\",\"MAZD\",\"OTHR\",\"GMC\",\"CHRY\",\"INFI\",\"ACUR\",\"SUBA\",\"VOLV\",\"TOYO\",\"MITS\",\"CADI\"],value=1)"
   ]
  },
  {
   "cell_type": "code",
   "execution_count": 16,
   "metadata": {},
   "outputs": [],
   "source": [
    "data_train = data[data['Make'].notna()]"
   ]
  },
  {
   "cell_type": "code",
   "execution_count": 17,
   "metadata": {},
   "outputs": [
    {
     "data": {
      "text/html": [
       "<div>\n",
       "<style scoped>\n",
       "    .dataframe tbody tr th:only-of-type {\n",
       "        vertical-align: middle;\n",
       "    }\n",
       "\n",
       "    .dataframe tbody tr th {\n",
       "        vertical-align: top;\n",
       "    }\n",
       "\n",
       "    .dataframe thead th {\n",
       "        text-align: right;\n",
       "    }\n",
       "</style>\n",
       "<table border=\"1\" class=\"dataframe\">\n",
       "  <thead>\n",
       "    <tr style=\"text-align: right;\">\n",
       "      <th></th>\n",
       "      <th>Ticket number</th>\n",
       "      <th>Issue Date</th>\n",
       "      <th>Issue time</th>\n",
       "      <th>Meter Id</th>\n",
       "      <th>Marked Time</th>\n",
       "      <th>RP State Plate</th>\n",
       "      <th>Plate Expiry Date</th>\n",
       "      <th>VIN</th>\n",
       "      <th>Make</th>\n",
       "      <th>Body Style</th>\n",
       "      <th>Color</th>\n",
       "      <th>Location</th>\n",
       "      <th>Route</th>\n",
       "      <th>Agency</th>\n",
       "      <th>Violation code</th>\n",
       "      <th>Violation Description</th>\n",
       "      <th>Fine amount</th>\n",
       "      <th>Latitude</th>\n",
       "      <th>Longitude</th>\n",
       "    </tr>\n",
       "  </thead>\n",
       "  <tbody>\n",
       "    <tr>\n",
       "      <th>4</th>\n",
       "      <td>1105461453</td>\n",
       "      <td>2015-09-15</td>\n",
       "      <td>115.0</td>\n",
       "      <td>NaN</td>\n",
       "      <td>NaN</td>\n",
       "      <td>CA</td>\n",
       "      <td>200316.0</td>\n",
       "      <td>NaN</td>\n",
       "      <td>CHEV</td>\n",
       "      <td>PA</td>\n",
       "      <td>BK</td>\n",
       "      <td>GEORGIA ST/OLYMPIC</td>\n",
       "      <td>1FB70</td>\n",
       "      <td>1.0</td>\n",
       "      <td>8069A</td>\n",
       "      <td>NO STOPPING/STANDING</td>\n",
       "      <td>93.0</td>\n",
       "      <td>9.999900e+04</td>\n",
       "      <td>9.999900e+04</td>\n",
       "    </tr>\n",
       "    <tr>\n",
       "      <th>6</th>\n",
       "      <td>1106500452</td>\n",
       "      <td>2015-12-17</td>\n",
       "      <td>1710.0</td>\n",
       "      <td>NaN</td>\n",
       "      <td>NaN</td>\n",
       "      <td>CA</td>\n",
       "      <td>201605.0</td>\n",
       "      <td>NaN</td>\n",
       "      <td>MAZD</td>\n",
       "      <td>PA</td>\n",
       "      <td>BL</td>\n",
       "      <td>SUNSET/ALVARADO</td>\n",
       "      <td>00217</td>\n",
       "      <td>1.0</td>\n",
       "      <td>8070</td>\n",
       "      <td>PARK IN GRID LOCK ZN</td>\n",
       "      <td>163.0</td>\n",
       "      <td>9.999900e+04</td>\n",
       "      <td>9.999900e+04</td>\n",
       "    </tr>\n",
       "    <tr>\n",
       "      <th>10</th>\n",
       "      <td>1106506424</td>\n",
       "      <td>2015-12-22</td>\n",
       "      <td>1100.0</td>\n",
       "      <td>NaN</td>\n",
       "      <td>NaN</td>\n",
       "      <td>CA</td>\n",
       "      <td>201511.0</td>\n",
       "      <td>NaN</td>\n",
       "      <td>FORD</td>\n",
       "      <td>TR</td>\n",
       "      <td>WH</td>\n",
       "      <td>1159 HUNTLEY DR</td>\n",
       "      <td>2A75</td>\n",
       "      <td>1.0</td>\n",
       "      <td>8069AA</td>\n",
       "      <td>NO STOP/STAND AM</td>\n",
       "      <td>93.0</td>\n",
       "      <td>9.999900e+04</td>\n",
       "      <td>9.999900e+04</td>\n",
       "    </tr>\n",
       "    <tr>\n",
       "      <th>11</th>\n",
       "      <td>1106506435</td>\n",
       "      <td>2015-12-22</td>\n",
       "      <td>1105.0</td>\n",
       "      <td>NaN</td>\n",
       "      <td>NaN</td>\n",
       "      <td>CA</td>\n",
       "      <td>201701.0</td>\n",
       "      <td>NaN</td>\n",
       "      <td>CHRY</td>\n",
       "      <td>PA</td>\n",
       "      <td>GO</td>\n",
       "      <td>1159 HUNTLEY DR</td>\n",
       "      <td>2A75</td>\n",
       "      <td>1.0</td>\n",
       "      <td>8069AA</td>\n",
       "      <td>NO STOP/STAND AM</td>\n",
       "      <td>93.0</td>\n",
       "      <td>9.999900e+04</td>\n",
       "      <td>9.999900e+04</td>\n",
       "    </tr>\n",
       "    <tr>\n",
       "      <th>14</th>\n",
       "      <td>1107179581</td>\n",
       "      <td>2015-12-27</td>\n",
       "      <td>1055.0</td>\n",
       "      <td>NaN</td>\n",
       "      <td>NaN</td>\n",
       "      <td>CA</td>\n",
       "      <td>201605.0</td>\n",
       "      <td>NaN</td>\n",
       "      <td>TOYO</td>\n",
       "      <td>PA</td>\n",
       "      <td>BK</td>\n",
       "      <td>3100 N HOLLYRIDGE DR</td>\n",
       "      <td>NaN</td>\n",
       "      <td>54.0</td>\n",
       "      <td>8058L</td>\n",
       "      <td>PREF PARKING</td>\n",
       "      <td>68.0</td>\n",
       "      <td>9.999900e+04</td>\n",
       "      <td>9.999900e+04</td>\n",
       "    </tr>\n",
       "    <tr>\n",
       "      <th>...</th>\n",
       "      <td>...</td>\n",
       "      <td>...</td>\n",
       "      <td>...</td>\n",
       "      <td>...</td>\n",
       "      <td>...</td>\n",
       "      <td>...</td>\n",
       "      <td>...</td>\n",
       "      <td>...</td>\n",
       "      <td>...</td>\n",
       "      <td>...</td>\n",
       "      <td>...</td>\n",
       "      <td>...</td>\n",
       "      <td>...</td>\n",
       "      <td>...</td>\n",
       "      <td>...</td>\n",
       "      <td>...</td>\n",
       "      <td>...</td>\n",
       "      <td>...</td>\n",
       "      <td>...</td>\n",
       "    </tr>\n",
       "    <tr>\n",
       "      <th>8726006</th>\n",
       "      <td>4347602361</td>\n",
       "      <td>2019-01-10</td>\n",
       "      <td>810.0</td>\n",
       "      <td>VN752</td>\n",
       "      <td>NaN</td>\n",
       "      <td>CA</td>\n",
       "      <td>NaN</td>\n",
       "      <td>NaN</td>\n",
       "      <td>FORD</td>\n",
       "      <td>PA</td>\n",
       "      <td>GY</td>\n",
       "      <td>6301 SYLMAR AV</td>\n",
       "      <td>00300</td>\n",
       "      <td>53.0</td>\n",
       "      <td>88.13B+</td>\n",
       "      <td>METER EXP.</td>\n",
       "      <td>63.0</td>\n",
       "      <td>6.426622e+06</td>\n",
       "      <td>1.889882e+06</td>\n",
       "    </tr>\n",
       "    <tr>\n",
       "      <th>8726008</th>\n",
       "      <td>4347602383</td>\n",
       "      <td>2019-01-10</td>\n",
       "      <td>1244.0</td>\n",
       "      <td>VN687</td>\n",
       "      <td>NaN</td>\n",
       "      <td>CA</td>\n",
       "      <td>201909.0</td>\n",
       "      <td>NaN</td>\n",
       "      <td>PORS</td>\n",
       "      <td>PA</td>\n",
       "      <td>BK</td>\n",
       "      <td>14301 DELANO ST</td>\n",
       "      <td>00300</td>\n",
       "      <td>53.0</td>\n",
       "      <td>88.13B+</td>\n",
       "      <td>METER EXP.</td>\n",
       "      <td>63.0</td>\n",
       "      <td>6.427279e+06</td>\n",
       "      <td>1.889149e+06</td>\n",
       "    </tr>\n",
       "    <tr>\n",
       "      <th>8726010</th>\n",
       "      <td>4347602405</td>\n",
       "      <td>2019-01-10</td>\n",
       "      <td>1350.0</td>\n",
       "      <td>VN316</td>\n",
       "      <td>NaN</td>\n",
       "      <td>CA</td>\n",
       "      <td>201905.0</td>\n",
       "      <td>NaN</td>\n",
       "      <td>HYUN</td>\n",
       "      <td>PA</td>\n",
       "      <td>SL</td>\n",
       "      <td>14500 FRIAR ST</td>\n",
       "      <td>00300</td>\n",
       "      <td>53.0</td>\n",
       "      <td>88.13B+</td>\n",
       "      <td>METER EXP.</td>\n",
       "      <td>63.0</td>\n",
       "      <td>6.425963e+06</td>\n",
       "      <td>1.890254e+06</td>\n",
       "    </tr>\n",
       "    <tr>\n",
       "      <th>8726011</th>\n",
       "      <td>4347602416</td>\n",
       "      <td>2019-01-10</td>\n",
       "      <td>1354.0</td>\n",
       "      <td>VN914</td>\n",
       "      <td>NaN</td>\n",
       "      <td>CA</td>\n",
       "      <td>201912.0</td>\n",
       "      <td>NaN</td>\n",
       "      <td>NISS</td>\n",
       "      <td>PA</td>\n",
       "      <td>GY</td>\n",
       "      <td>14400 FRIAR ST</td>\n",
       "      <td>00300</td>\n",
       "      <td>53.0</td>\n",
       "      <td>88.13B+</td>\n",
       "      <td>METER EXP.</td>\n",
       "      <td>63.0</td>\n",
       "      <td>6.426623e+06</td>\n",
       "      <td>1.890252e+06</td>\n",
       "    </tr>\n",
       "    <tr>\n",
       "      <th>8726013</th>\n",
       "      <td>4347602431</td>\n",
       "      <td>2019-01-10</td>\n",
       "      <td>1414.0</td>\n",
       "      <td>VN749</td>\n",
       "      <td>NaN</td>\n",
       "      <td>CA</td>\n",
       "      <td>201905.0</td>\n",
       "      <td>NaN</td>\n",
       "      <td>BMW</td>\n",
       "      <td>PA</td>\n",
       "      <td>BK</td>\n",
       "      <td>6301 SYLMAR AV</td>\n",
       "      <td>00300</td>\n",
       "      <td>53.0</td>\n",
       "      <td>88.13B+</td>\n",
       "      <td>METER EXP.</td>\n",
       "      <td>63.0</td>\n",
       "      <td>6.426622e+06</td>\n",
       "      <td>1.889882e+06</td>\n",
       "    </tr>\n",
       "  </tbody>\n",
       "</table>\n",
       "<p>4357544 rows × 19 columns</p>\n",
       "</div>"
      ],
      "text/plain": [
       "        Ticket number Issue Date  Issue time Meter Id  Marked Time  \\\n",
       "4          1105461453 2015-09-15       115.0      NaN          NaN   \n",
       "6          1106500452 2015-12-17      1710.0      NaN          NaN   \n",
       "10         1106506424 2015-12-22      1100.0      NaN          NaN   \n",
       "11         1106506435 2015-12-22      1105.0      NaN          NaN   \n",
       "14         1107179581 2015-12-27      1055.0      NaN          NaN   \n",
       "...               ...        ...         ...      ...          ...   \n",
       "8726006    4347602361 2019-01-10       810.0    VN752          NaN   \n",
       "8726008    4347602383 2019-01-10      1244.0    VN687          NaN   \n",
       "8726010    4347602405 2019-01-10      1350.0    VN316          NaN   \n",
       "8726011    4347602416 2019-01-10      1354.0    VN914          NaN   \n",
       "8726013    4347602431 2019-01-10      1414.0    VN749          NaN   \n",
       "\n",
       "        RP State Plate  Plate Expiry Date  VIN  Make Body Style Color  \\\n",
       "4                   CA           200316.0  NaN  CHEV         PA    BK   \n",
       "6                   CA           201605.0  NaN  MAZD         PA    BL   \n",
       "10                  CA           201511.0  NaN  FORD         TR    WH   \n",
       "11                  CA           201701.0  NaN  CHRY         PA    GO   \n",
       "14                  CA           201605.0  NaN  TOYO         PA    BK   \n",
       "...                ...                ...  ...   ...        ...   ...   \n",
       "8726006             CA                NaN  NaN  FORD         PA    GY   \n",
       "8726008             CA           201909.0  NaN  PORS         PA    BK   \n",
       "8726010             CA           201905.0  NaN  HYUN         PA    SL   \n",
       "8726011             CA           201912.0  NaN  NISS         PA    GY   \n",
       "8726013             CA           201905.0  NaN   BMW         PA    BK   \n",
       "\n",
       "                     Location  Route  Agency Violation code  \\\n",
       "4          GEORGIA ST/OLYMPIC  1FB70     1.0          8069A   \n",
       "6             SUNSET/ALVARADO  00217     1.0           8070   \n",
       "10            1159 HUNTLEY DR   2A75     1.0         8069AA   \n",
       "11            1159 HUNTLEY DR   2A75     1.0         8069AA   \n",
       "14       3100 N HOLLYRIDGE DR    NaN    54.0          8058L   \n",
       "...                       ...    ...     ...            ...   \n",
       "8726006        6301 SYLMAR AV  00300    53.0        88.13B+   \n",
       "8726008       14301 DELANO ST  00300    53.0        88.13B+   \n",
       "8726010        14500 FRIAR ST  00300    53.0        88.13B+   \n",
       "8726011        14400 FRIAR ST  00300    53.0        88.13B+   \n",
       "8726013        6301 SYLMAR AV  00300    53.0        88.13B+   \n",
       "\n",
       "        Violation Description  Fine amount      Latitude     Longitude  \n",
       "4        NO STOPPING/STANDING         93.0  9.999900e+04  9.999900e+04  \n",
       "6        PARK IN GRID LOCK ZN        163.0  9.999900e+04  9.999900e+04  \n",
       "10           NO STOP/STAND AM         93.0  9.999900e+04  9.999900e+04  \n",
       "11           NO STOP/STAND AM         93.0  9.999900e+04  9.999900e+04  \n",
       "14               PREF PARKING         68.0  9.999900e+04  9.999900e+04  \n",
       "...                       ...          ...           ...           ...  \n",
       "8726006            METER EXP.         63.0  6.426622e+06  1.889882e+06  \n",
       "8726008            METER EXP.         63.0  6.427279e+06  1.889149e+06  \n",
       "8726010            METER EXP.         63.0  6.425963e+06  1.890254e+06  \n",
       "8726011            METER EXP.         63.0  6.426623e+06  1.890252e+06  \n",
       "8726013            METER EXP.         63.0  6.426622e+06  1.889882e+06  \n",
       "\n",
       "[4357544 rows x 19 columns]"
      ]
     },
     "execution_count": 17,
     "metadata": {},
     "output_type": "execute_result"
    }
   ],
   "source": [
    "data_train"
   ]
  },
  {
   "cell_type": "code",
   "execution_count": 18,
   "metadata": {},
   "outputs": [],
   "source": [
    "data_test=data[data['Make'].isna()]"
   ]
  },
  {
   "cell_type": "code",
   "execution_count": 19,
   "metadata": {},
   "outputs": [
    {
     "data": {
      "text/html": [
       "<div>\n",
       "<style scoped>\n",
       "    .dataframe tbody tr th:only-of-type {\n",
       "        vertical-align: middle;\n",
       "    }\n",
       "\n",
       "    .dataframe tbody tr th {\n",
       "        vertical-align: top;\n",
       "    }\n",
       "\n",
       "    .dataframe thead th {\n",
       "        text-align: right;\n",
       "    }\n",
       "</style>\n",
       "<table border=\"1\" class=\"dataframe\">\n",
       "  <thead>\n",
       "    <tr style=\"text-align: right;\">\n",
       "      <th></th>\n",
       "      <th>Ticket number</th>\n",
       "      <th>Issue Date</th>\n",
       "      <th>Issue time</th>\n",
       "      <th>Meter Id</th>\n",
       "      <th>Marked Time</th>\n",
       "      <th>RP State Plate</th>\n",
       "      <th>Plate Expiry Date</th>\n",
       "      <th>VIN</th>\n",
       "      <th>Make</th>\n",
       "      <th>Body Style</th>\n",
       "      <th>Color</th>\n",
       "      <th>Location</th>\n",
       "      <th>Route</th>\n",
       "      <th>Agency</th>\n",
       "      <th>Violation code</th>\n",
       "      <th>Violation Description</th>\n",
       "      <th>Fine amount</th>\n",
       "      <th>Latitude</th>\n",
       "      <th>Longitude</th>\n",
       "    </tr>\n",
       "  </thead>\n",
       "  <tbody>\n",
       "    <tr>\n",
       "      <th>4</th>\n",
       "      <td>1105461453</td>\n",
       "      <td>2015-09-15</td>\n",
       "      <td>115.0</td>\n",
       "      <td>NaN</td>\n",
       "      <td>NaN</td>\n",
       "      <td>CA</td>\n",
       "      <td>200316.0</td>\n",
       "      <td>NaN</td>\n",
       "      <td>CHEV</td>\n",
       "      <td>PA</td>\n",
       "      <td>BK</td>\n",
       "      <td>GEORGIA ST/OLYMPIC</td>\n",
       "      <td>1FB70</td>\n",
       "      <td>1.0</td>\n",
       "      <td>8069A</td>\n",
       "      <td>NO STOPPING/STANDING</td>\n",
       "      <td>93.0</td>\n",
       "      <td>99999.0</td>\n",
       "      <td>99999.0</td>\n",
       "    </tr>\n",
       "    <tr>\n",
       "      <th>6</th>\n",
       "      <td>1106500452</td>\n",
       "      <td>2015-12-17</td>\n",
       "      <td>1710.0</td>\n",
       "      <td>NaN</td>\n",
       "      <td>NaN</td>\n",
       "      <td>CA</td>\n",
       "      <td>201605.0</td>\n",
       "      <td>NaN</td>\n",
       "      <td>MAZD</td>\n",
       "      <td>PA</td>\n",
       "      <td>BL</td>\n",
       "      <td>SUNSET/ALVARADO</td>\n",
       "      <td>00217</td>\n",
       "      <td>1.0</td>\n",
       "      <td>8070</td>\n",
       "      <td>PARK IN GRID LOCK ZN</td>\n",
       "      <td>163.0</td>\n",
       "      <td>99999.0</td>\n",
       "      <td>99999.0</td>\n",
       "    </tr>\n",
       "    <tr>\n",
       "      <th>10</th>\n",
       "      <td>1106506424</td>\n",
       "      <td>2015-12-22</td>\n",
       "      <td>1100.0</td>\n",
       "      <td>NaN</td>\n",
       "      <td>NaN</td>\n",
       "      <td>CA</td>\n",
       "      <td>201511.0</td>\n",
       "      <td>NaN</td>\n",
       "      <td>FORD</td>\n",
       "      <td>TR</td>\n",
       "      <td>WH</td>\n",
       "      <td>1159 HUNTLEY DR</td>\n",
       "      <td>2A75</td>\n",
       "      <td>1.0</td>\n",
       "      <td>8069AA</td>\n",
       "      <td>NO STOP/STAND AM</td>\n",
       "      <td>93.0</td>\n",
       "      <td>99999.0</td>\n",
       "      <td>99999.0</td>\n",
       "    </tr>\n",
       "    <tr>\n",
       "      <th>11</th>\n",
       "      <td>1106506435</td>\n",
       "      <td>2015-12-22</td>\n",
       "      <td>1105.0</td>\n",
       "      <td>NaN</td>\n",
       "      <td>NaN</td>\n",
       "      <td>CA</td>\n",
       "      <td>201701.0</td>\n",
       "      <td>NaN</td>\n",
       "      <td>CHRY</td>\n",
       "      <td>PA</td>\n",
       "      <td>GO</td>\n",
       "      <td>1159 HUNTLEY DR</td>\n",
       "      <td>2A75</td>\n",
       "      <td>1.0</td>\n",
       "      <td>8069AA</td>\n",
       "      <td>NO STOP/STAND AM</td>\n",
       "      <td>93.0</td>\n",
       "      <td>99999.0</td>\n",
       "      <td>99999.0</td>\n",
       "    </tr>\n",
       "    <tr>\n",
       "      <th>14</th>\n",
       "      <td>1107179581</td>\n",
       "      <td>2015-12-27</td>\n",
       "      <td>1055.0</td>\n",
       "      <td>NaN</td>\n",
       "      <td>NaN</td>\n",
       "      <td>CA</td>\n",
       "      <td>201605.0</td>\n",
       "      <td>NaN</td>\n",
       "      <td>TOYO</td>\n",
       "      <td>PA</td>\n",
       "      <td>BK</td>\n",
       "      <td>3100 N HOLLYRIDGE DR</td>\n",
       "      <td>NaN</td>\n",
       "      <td>54.0</td>\n",
       "      <td>8058L</td>\n",
       "      <td>PREF PARKING</td>\n",
       "      <td>68.0</td>\n",
       "      <td>99999.0</td>\n",
       "      <td>99999.0</td>\n",
       "    </tr>\n",
       "  </tbody>\n",
       "</table>\n",
       "</div>"
      ],
      "text/plain": [
       "   Ticket number Issue Date  Issue time Meter Id  Marked Time RP State Plate  \\\n",
       "4     1105461453 2015-09-15       115.0      NaN          NaN             CA   \n",
       "6     1106500452 2015-12-17      1710.0      NaN          NaN             CA   \n",
       "10    1106506424 2015-12-22      1100.0      NaN          NaN             CA   \n",
       "11    1106506435 2015-12-22      1105.0      NaN          NaN             CA   \n",
       "14    1107179581 2015-12-27      1055.0      NaN          NaN             CA   \n",
       "\n",
       "    Plate Expiry Date  VIN  Make Body Style Color              Location  \\\n",
       "4            200316.0  NaN  CHEV         PA    BK    GEORGIA ST/OLYMPIC   \n",
       "6            201605.0  NaN  MAZD         PA    BL       SUNSET/ALVARADO   \n",
       "10           201511.0  NaN  FORD         TR    WH       1159 HUNTLEY DR   \n",
       "11           201701.0  NaN  CHRY         PA    GO       1159 HUNTLEY DR   \n",
       "14           201605.0  NaN  TOYO         PA    BK  3100 N HOLLYRIDGE DR   \n",
       "\n",
       "    Route  Agency Violation code Violation Description  Fine amount  Latitude  \\\n",
       "4   1FB70     1.0          8069A  NO STOPPING/STANDING         93.0   99999.0   \n",
       "6   00217     1.0           8070  PARK IN GRID LOCK ZN        163.0   99999.0   \n",
       "10   2A75     1.0         8069AA      NO STOP/STAND AM         93.0   99999.0   \n",
       "11   2A75     1.0         8069AA      NO STOP/STAND AM         93.0   99999.0   \n",
       "14    NaN    54.0          8058L          PREF PARKING         68.0   99999.0   \n",
       "\n",
       "    Longitude  \n",
       "4     99999.0  \n",
       "6     99999.0  \n",
       "10    99999.0  \n",
       "11    99999.0  \n",
       "14    99999.0  "
      ]
     },
     "execution_count": 19,
     "metadata": {},
     "output_type": "execute_result"
    }
   ],
   "source": [
    "data_train.head()"
   ]
  },
  {
   "cell_type": "code",
   "execution_count": 20,
   "metadata": {},
   "outputs": [],
   "source": [
    "data_25=data_train['Make'].value_counts()[:25]"
   ]
  },
  {
   "cell_type": "code",
   "execution_count": 21,
   "metadata": {},
   "outputs": [],
   "source": [
    "data_25=pd.DataFrame(data_25)"
   ]
  },
  {
   "cell_type": "code",
   "execution_count": 22,
   "metadata": {},
   "outputs": [
    {
     "data": {
      "text/html": [
       "<div>\n",
       "<style scoped>\n",
       "    .dataframe tbody tr th:only-of-type {\n",
       "        vertical-align: middle;\n",
       "    }\n",
       "\n",
       "    .dataframe tbody tr th {\n",
       "        vertical-align: top;\n",
       "    }\n",
       "\n",
       "    .dataframe thead th {\n",
       "        text-align: right;\n",
       "    }\n",
       "</style>\n",
       "<table border=\"1\" class=\"dataframe\">\n",
       "  <thead>\n",
       "    <tr style=\"text-align: right;\">\n",
       "      <th></th>\n",
       "      <th>Make</th>\n",
       "    </tr>\n",
       "  </thead>\n",
       "  <tbody>\n",
       "    <tr>\n",
       "      <th>TOYT</th>\n",
       "      <td>721411</td>\n",
       "    </tr>\n",
       "    <tr>\n",
       "      <th>HOND</th>\n",
       "      <td>491961</td>\n",
       "    </tr>\n",
       "    <tr>\n",
       "      <th>FORD</th>\n",
       "      <td>382695</td>\n",
       "    </tr>\n",
       "    <tr>\n",
       "      <th>NISS</th>\n",
       "      <td>311324</td>\n",
       "    </tr>\n",
       "    <tr>\n",
       "      <th>CHEV</th>\n",
       "      <td>297076</td>\n",
       "    </tr>\n",
       "    <tr>\n",
       "      <th>BMW</th>\n",
       "      <td>199221</td>\n",
       "    </tr>\n",
       "    <tr>\n",
       "      <th>MERZ</th>\n",
       "      <td>177307</td>\n",
       "    </tr>\n",
       "    <tr>\n",
       "      <th>VOLK</th>\n",
       "      <td>149501</td>\n",
       "    </tr>\n",
       "    <tr>\n",
       "      <th>HYUN</th>\n",
       "      <td>133864</td>\n",
       "    </tr>\n",
       "    <tr>\n",
       "      <th>DODG</th>\n",
       "      <td>127764</td>\n",
       "    </tr>\n",
       "    <tr>\n",
       "      <th>LEXS</th>\n",
       "      <td>124508</td>\n",
       "    </tr>\n",
       "    <tr>\n",
       "      <th>KIA</th>\n",
       "      <td>101746</td>\n",
       "    </tr>\n",
       "    <tr>\n",
       "      <th>JEEP</th>\n",
       "      <td>100909</td>\n",
       "    </tr>\n",
       "    <tr>\n",
       "      <th>AUDI</th>\n",
       "      <td>84229</td>\n",
       "    </tr>\n",
       "    <tr>\n",
       "      <th>MAZD</th>\n",
       "      <td>79853</td>\n",
       "    </tr>\n",
       "    <tr>\n",
       "      <th>OTHR</th>\n",
       "      <td>72411</td>\n",
       "    </tr>\n",
       "    <tr>\n",
       "      <th>GMC</th>\n",
       "      <td>62391</td>\n",
       "    </tr>\n",
       "    <tr>\n",
       "      <th>CHRY</th>\n",
       "      <td>57317</td>\n",
       "    </tr>\n",
       "    <tr>\n",
       "      <th>INFI</th>\n",
       "      <td>56809</td>\n",
       "    </tr>\n",
       "    <tr>\n",
       "      <th>ACUR</th>\n",
       "      <td>52703</td>\n",
       "    </tr>\n",
       "    <tr>\n",
       "      <th>SUBA</th>\n",
       "      <td>46898</td>\n",
       "    </tr>\n",
       "    <tr>\n",
       "      <th>VOLV</th>\n",
       "      <td>42330</td>\n",
       "    </tr>\n",
       "    <tr>\n",
       "      <th>TOYO</th>\n",
       "      <td>40064</td>\n",
       "    </tr>\n",
       "    <tr>\n",
       "      <th>MITS</th>\n",
       "      <td>37842</td>\n",
       "    </tr>\n",
       "    <tr>\n",
       "      <th>CADI</th>\n",
       "      <td>34080</td>\n",
       "    </tr>\n",
       "  </tbody>\n",
       "</table>\n",
       "</div>"
      ],
      "text/plain": [
       "        Make\n",
       "TOYT  721411\n",
       "HOND  491961\n",
       "FORD  382695\n",
       "NISS  311324\n",
       "CHEV  297076\n",
       "BMW   199221\n",
       "MERZ  177307\n",
       "VOLK  149501\n",
       "HYUN  133864\n",
       "DODG  127764\n",
       "LEXS  124508\n",
       "KIA   101746\n",
       "JEEP  100909\n",
       "AUDI   84229\n",
       "MAZD   79853\n",
       "OTHR   72411\n",
       "GMC    62391\n",
       "CHRY   57317\n",
       "INFI   56809\n",
       "ACUR   52703\n",
       "SUBA   46898\n",
       "VOLV   42330\n",
       "TOYO   40064\n",
       "MITS   37842\n",
       "CADI   34080"
      ]
     },
     "execution_count": 22,
     "metadata": {},
     "output_type": "execute_result"
    }
   ],
   "source": [
    "data_25"
   ]
  },
  {
   "cell_type": "code",
   "execution_count": 23,
   "metadata": {},
   "outputs": [
    {
     "name": "stderr",
     "output_type": "stream",
     "text": [
      "<ipython-input-23-2935b1819ea6>:1: SettingWithCopyWarning: \n",
      "A value is trying to be set on a copy of a slice from a DataFrame.\n",
      "Try using .loc[row_indexer,col_indexer] = value instead\n",
      "\n",
      "See the caveats in the documentation: https://pandas.pydata.org/pandas-docs/stable/user_guide/indexing.html#returning-a-view-versus-a-copy\n",
      "  data_train['classification']=data_train['Make'].replace(to_replace=[\"TOYT\",\"HOND\",\"FORD\",\"NISS\",\"CHEV\",\"BMW\",\"MERZ\",\"VOLK\",\"HYUN\",\"DODG\",\"LEXS\",\"KIA\",\"JEEP\",\"AUDI\",\"MAZD\",\"OTHR\",\"GMC\",\"CHRY\",\"INFI\",\"ACUR\",\"SUBA\",\"VOLV\",\"TOYO\",\"MITS\",\"CADI\"],value='correct')\n"
     ]
    }
   ],
   "source": [
    "data_train['classification']=data_train['Make'].replace(to_replace=[\"TOYT\",\"HOND\",\"FORD\",\"NISS\",\"CHEV\",\"BMW\",\"MERZ\",\"VOLK\",\"HYUN\",\"DODG\",\"LEXS\",\"KIA\",\"JEEP\",\"AUDI\",\"MAZD\",\"OTHR\",\"GMC\",\"CHRY\",\"INFI\",\"ACUR\",\"SUBA\",\"VOLV\",\"TOYO\",\"MITS\",\"CADI\"],value='correct')"
   ]
  },
  {
   "cell_type": "code",
   "execution_count": 24,
   "metadata": {},
   "outputs": [
    {
     "data": {
      "text/plain": [
       "4          correct\n",
       "6          correct\n",
       "10         correct\n",
       "11         correct\n",
       "14         correct\n",
       "            ...   \n",
       "8726006    correct\n",
       "8726008       PORS\n",
       "8726010    correct\n",
       "8726011    correct\n",
       "8726013    correct\n",
       "Name: classification, Length: 4357544, dtype: object"
      ]
     },
     "execution_count": 24,
     "metadata": {},
     "output_type": "execute_result"
    }
   ],
   "source": [
    "data_train['classification']"
   ]
  },
  {
   "cell_type": "code",
   "execution_count": 25,
   "metadata": {},
   "outputs": [
    {
     "name": "stderr",
     "output_type": "stream",
     "text": [
      "C:\\Users\\hp\\anaconda3\\lib\\site-packages\\pandas\\core\\indexing.py:1765: SettingWithCopyWarning: \n",
      "A value is trying to be set on a copy of a slice from a DataFrame.\n",
      "Try using .loc[row_indexer,col_indexer] = value instead\n",
      "\n",
      "See the caveats in the documentation: https://pandas.pydata.org/pandas-docs/stable/user_guide/indexing.html#returning-a-view-versus-a-copy\n",
      "  isetter(loc, value)\n"
     ]
    }
   ],
   "source": [
    "data_train.loc[data_train['classification'] !='correct', 'classification'] = 'wrong'"
   ]
  },
  {
   "cell_type": "code",
   "execution_count": 26,
   "metadata": {},
   "outputs": [
    {
     "data": {
      "text/plain": [
       "correct    3986214\n",
       "wrong       371330\n",
       "Name: classification, dtype: int64"
      ]
     },
     "execution_count": 26,
     "metadata": {},
     "output_type": "execute_result"
    }
   ],
   "source": [
    "data_train['classification'].value_counts()"
   ]
  },
  {
   "cell_type": "code",
   "execution_count": 27,
   "metadata": {},
   "outputs": [
    {
     "name": "stderr",
     "output_type": "stream",
     "text": [
      "<ipython-input-27-8954ec2533d0>:1: SettingWithCopyWarning: \n",
      "A value is trying to be set on a copy of a slice from a DataFrame.\n",
      "Try using .loc[row_indexer,col_indexer] = value instead\n",
      "\n",
      "See the caveats in the documentation: https://pandas.pydata.org/pandas-docs/stable/user_guide/indexing.html#returning-a-view-versus-a-copy\n",
      "  data_train['classification']=data_train['classification'].replace({'correct': 1, 'wrong': 0})\n"
     ]
    }
   ],
   "source": [
    "data_train['classification']=data_train['classification'].replace({'correct': 1, 'wrong': 0})"
   ]
  },
  {
   "cell_type": "code",
   "execution_count": 28,
   "metadata": {},
   "outputs": [
    {
     "data": {
      "text/plain": [
       "(4357544, 20)"
      ]
     },
     "execution_count": 28,
     "metadata": {},
     "output_type": "execute_result"
    }
   ],
   "source": [
    "data_train.shape"
   ]
  },
  {
   "cell_type": "code",
   "execution_count": 29,
   "metadata": {},
   "outputs": [
    {
     "name": "stdout",
     "output_type": "stream",
     "text": [
      "<class 'pandas.core.frame.DataFrame'>\n",
      "Int64Index: 4357544 entries, 4 to 8726013\n",
      "Data columns (total 20 columns):\n",
      " #   Column                 Dtype         \n",
      "---  ------                 -----         \n",
      " 0   Ticket number          object        \n",
      " 1   Issue Date             datetime64[ns]\n",
      " 2   Issue time             float64       \n",
      " 3   Meter Id               object        \n",
      " 4   Marked Time            float64       \n",
      " 5   RP State Plate         object        \n",
      " 6   Plate Expiry Date      float64       \n",
      " 7   VIN                    object        \n",
      " 8   Make                   object        \n",
      " 9   Body Style             object        \n",
      " 10  Color                  object        \n",
      " 11  Location               object        \n",
      " 12  Route                  object        \n",
      " 13  Agency                 float64       \n",
      " 14  Violation code         object        \n",
      " 15  Violation Description  object        \n",
      " 16  Fine amount            float64       \n",
      " 17  Latitude               float64       \n",
      " 18  Longitude              float64       \n",
      " 19  classification         int64         \n",
      "dtypes: datetime64[ns](1), float64(7), int64(1), object(11)\n",
      "memory usage: 698.2+ MB\n"
     ]
    }
   ],
   "source": [
    "data_train.info()"
   ]
  },
  {
   "cell_type": "code",
   "execution_count": 30,
   "metadata": {},
   "outputs": [],
   "source": [
    "X=data_train.drop(['classification','Ticket number',\"Meter Id\",\"RP State Plate\",\"VIN\",\"Make\",\"Body Style\",\"Color\",\"Location\",\"Route\",\"Violation code\",\"Violation Description\",\"Issue Date\",\"Latitude\",\"Longitude\"],axis=1)"
   ]
  },
  {
   "cell_type": "code",
   "execution_count": 31,
   "metadata": {},
   "outputs": [
    {
     "data": {
      "text/html": [
       "<div>\n",
       "<style scoped>\n",
       "    .dataframe tbody tr th:only-of-type {\n",
       "        vertical-align: middle;\n",
       "    }\n",
       "\n",
       "    .dataframe tbody tr th {\n",
       "        vertical-align: top;\n",
       "    }\n",
       "\n",
       "    .dataframe thead th {\n",
       "        text-align: right;\n",
       "    }\n",
       "</style>\n",
       "<table border=\"1\" class=\"dataframe\">\n",
       "  <thead>\n",
       "    <tr style=\"text-align: right;\">\n",
       "      <th></th>\n",
       "      <th>Issue time</th>\n",
       "      <th>Marked Time</th>\n",
       "      <th>Plate Expiry Date</th>\n",
       "      <th>Agency</th>\n",
       "      <th>Fine amount</th>\n",
       "    </tr>\n",
       "  </thead>\n",
       "  <tbody>\n",
       "    <tr>\n",
       "      <th>4</th>\n",
       "      <td>115.0</td>\n",
       "      <td>NaN</td>\n",
       "      <td>200316.0</td>\n",
       "      <td>1.0</td>\n",
       "      <td>93.0</td>\n",
       "    </tr>\n",
       "    <tr>\n",
       "      <th>6</th>\n",
       "      <td>1710.0</td>\n",
       "      <td>NaN</td>\n",
       "      <td>201605.0</td>\n",
       "      <td>1.0</td>\n",
       "      <td>163.0</td>\n",
       "    </tr>\n",
       "    <tr>\n",
       "      <th>10</th>\n",
       "      <td>1100.0</td>\n",
       "      <td>NaN</td>\n",
       "      <td>201511.0</td>\n",
       "      <td>1.0</td>\n",
       "      <td>93.0</td>\n",
       "    </tr>\n",
       "    <tr>\n",
       "      <th>11</th>\n",
       "      <td>1105.0</td>\n",
       "      <td>NaN</td>\n",
       "      <td>201701.0</td>\n",
       "      <td>1.0</td>\n",
       "      <td>93.0</td>\n",
       "    </tr>\n",
       "    <tr>\n",
       "      <th>14</th>\n",
       "      <td>1055.0</td>\n",
       "      <td>NaN</td>\n",
       "      <td>201605.0</td>\n",
       "      <td>54.0</td>\n",
       "      <td>68.0</td>\n",
       "    </tr>\n",
       "  </tbody>\n",
       "</table>\n",
       "</div>"
      ],
      "text/plain": [
       "    Issue time  Marked Time  Plate Expiry Date  Agency  Fine amount\n",
       "4        115.0          NaN           200316.0     1.0         93.0\n",
       "6       1710.0          NaN           201605.0     1.0        163.0\n",
       "10      1100.0          NaN           201511.0     1.0         93.0\n",
       "11      1105.0          NaN           201701.0     1.0         93.0\n",
       "14      1055.0          NaN           201605.0    54.0         68.0"
      ]
     },
     "execution_count": 31,
     "metadata": {},
     "output_type": "execute_result"
    }
   ],
   "source": [
    "X.head()"
   ]
  },
  {
   "cell_type": "code",
   "execution_count": 32,
   "metadata": {},
   "outputs": [],
   "source": [
    "Y=data_train['classification'].values"
   ]
  },
  {
   "cell_type": "code",
   "execution_count": 33,
   "metadata": {},
   "outputs": [
    {
     "data": {
      "text/plain": [
       "(4357544,)"
      ]
     },
     "execution_count": 33,
     "metadata": {},
     "output_type": "execute_result"
    }
   ],
   "source": [
    "Y.shape"
   ]
  },
  {
   "cell_type": "code",
   "execution_count": 34,
   "metadata": {},
   "outputs": [],
   "source": [
    "X.fillna(X.mean(),inplace=True)"
   ]
  },
  {
   "cell_type": "code",
   "execution_count": 35,
   "metadata": {},
   "outputs": [
    {
     "data": {
      "text/html": [
       "<div>\n",
       "<style scoped>\n",
       "    .dataframe tbody tr th:only-of-type {\n",
       "        vertical-align: middle;\n",
       "    }\n",
       "\n",
       "    .dataframe tbody tr th {\n",
       "        vertical-align: top;\n",
       "    }\n",
       "\n",
       "    .dataframe thead th {\n",
       "        text-align: right;\n",
       "    }\n",
       "</style>\n",
       "<table border=\"1\" class=\"dataframe\">\n",
       "  <thead>\n",
       "    <tr style=\"text-align: right;\">\n",
       "      <th></th>\n",
       "      <th>Issue time</th>\n",
       "      <th>Marked Time</th>\n",
       "      <th>Plate Expiry Date</th>\n",
       "      <th>Agency</th>\n",
       "      <th>Fine amount</th>\n",
       "    </tr>\n",
       "  </thead>\n",
       "  <tbody>\n",
       "    <tr>\n",
       "      <th>4</th>\n",
       "      <td>115.0</td>\n",
       "      <td>1055.147196</td>\n",
       "      <td>200316.0</td>\n",
       "      <td>1.0</td>\n",
       "      <td>93.0</td>\n",
       "    </tr>\n",
       "    <tr>\n",
       "      <th>6</th>\n",
       "      <td>1710.0</td>\n",
       "      <td>1055.147196</td>\n",
       "      <td>201605.0</td>\n",
       "      <td>1.0</td>\n",
       "      <td>163.0</td>\n",
       "    </tr>\n",
       "    <tr>\n",
       "      <th>10</th>\n",
       "      <td>1100.0</td>\n",
       "      <td>1055.147196</td>\n",
       "      <td>201511.0</td>\n",
       "      <td>1.0</td>\n",
       "      <td>93.0</td>\n",
       "    </tr>\n",
       "    <tr>\n",
       "      <th>11</th>\n",
       "      <td>1105.0</td>\n",
       "      <td>1055.147196</td>\n",
       "      <td>201701.0</td>\n",
       "      <td>1.0</td>\n",
       "      <td>93.0</td>\n",
       "    </tr>\n",
       "    <tr>\n",
       "      <th>14</th>\n",
       "      <td>1055.0</td>\n",
       "      <td>1055.147196</td>\n",
       "      <td>201605.0</td>\n",
       "      <td>54.0</td>\n",
       "      <td>68.0</td>\n",
       "    </tr>\n",
       "  </tbody>\n",
       "</table>\n",
       "</div>"
      ],
      "text/plain": [
       "    Issue time  Marked Time  Plate Expiry Date  Agency  Fine amount\n",
       "4        115.0  1055.147196           200316.0     1.0         93.0\n",
       "6       1710.0  1055.147196           201605.0     1.0        163.0\n",
       "10      1100.0  1055.147196           201511.0     1.0         93.0\n",
       "11      1105.0  1055.147196           201701.0     1.0         93.0\n",
       "14      1055.0  1055.147196           201605.0    54.0         68.0"
      ]
     },
     "execution_count": 35,
     "metadata": {},
     "output_type": "execute_result"
    }
   ],
   "source": [
    "X.head()"
   ]
  },
  {
   "cell_type": "code",
   "execution_count": 36,
   "metadata": {},
   "outputs": [],
   "source": [
    "X_train,X_test,y_train,y_test=train_test_split(X,Y,test_size=0.50,stratify=Y)"
   ]
  },
  {
   "cell_type": "code",
   "execution_count": 37,
   "metadata": {},
   "outputs": [
    {
     "data": {
      "text/plain": [
       "((2178772, 5), (2178772, 5), (2178772,), (2178772,))"
      ]
     },
     "execution_count": 37,
     "metadata": {},
     "output_type": "execute_result"
    }
   ],
   "source": [
    "X_train.shape,X_test.shape,y_test.shape,y_train.shape"
   ]
  },
  {
   "cell_type": "code",
   "execution_count": 38,
   "metadata": {},
   "outputs": [],
   "source": [
    "clf=XGBClassifier()"
   ]
  },
  {
   "cell_type": "code",
   "execution_count": 39,
   "metadata": {},
   "outputs": [
    {
     "name": "stderr",
     "output_type": "stream",
     "text": [
      "C:\\Users\\hp\\anaconda3\\lib\\site-packages\\xgboost\\sklearn.py:1146: UserWarning: The use of label encoder in XGBClassifier is deprecated and will be removed in a future release. To remove this warning, do the following: 1) Pass option use_label_encoder=False when constructing XGBClassifier object; and 2) Encode your labels (y) as integers starting with 0, i.e. 0, 1, 2, ..., [num_class - 1].\n",
      "  warnings.warn(label_encoder_deprecation_msg, UserWarning)\n"
     ]
    },
    {
     "name": "stdout",
     "output_type": "stream",
     "text": [
      "[05:10:54] WARNING: C:/Users/Administrator/workspace/xgboost-win64_release_1.4.0/src/learner.cc:1095: Starting in XGBoost 1.3.0, the default evaluation metric used with the objective 'binary:logistic' was changed from 'error' to 'logloss'. Explicitly set eval_metric if you'd like to restore the old behavior.\n"
     ]
    }
   ],
   "source": [
    "classifier=clf.fit(X_train,y_train)"
   ]
  },
  {
   "cell_type": "code",
   "execution_count": 40,
   "metadata": {},
   "outputs": [],
   "source": [
    "y_pred=classifier.predict(X_test)\n",
    "y_pred_probabality = classifier.predict_proba(X_test)"
   ]
  },
  {
   "cell_type": "code",
   "execution_count": 41,
   "metadata": {},
   "outputs": [
    {
     "data": {
      "text/plain": [
       "0.9947702"
      ]
     },
     "execution_count": 41,
     "metadata": {},
     "output_type": "execute_result"
    }
   ],
   "source": [
    "y_pred_probabality.max()"
   ]
  },
  {
   "cell_type": "code",
   "execution_count": 42,
   "metadata": {},
   "outputs": [
    {
     "data": {
      "text/plain": [
       "array([[0.06426185, 0.93573815],\n",
       "       [0.08094323, 0.9190568 ],\n",
       "       [0.05351377, 0.94648623],\n",
       "       ...,\n",
       "       [0.09275496, 0.90724504],\n",
       "       [0.07328272, 0.9267173 ],\n",
       "       [0.04686379, 0.9531362 ]], dtype=float32)"
      ]
     },
     "execution_count": 42,
     "metadata": {},
     "output_type": "execute_result"
    }
   ],
   "source": [
    "y_pred_probabality"
   ]
  },
  {
   "cell_type": "code",
   "execution_count": 43,
   "metadata": {},
   "outputs": [],
   "source": [
    "probab_df = pd.DataFrame(y_pred_probabality)"
   ]
  },
  {
   "cell_type": "code",
   "execution_count": 44,
   "metadata": {},
   "outputs": [
    {
     "data": {
      "text/html": [
       "<div>\n",
       "<style scoped>\n",
       "    .dataframe tbody tr th:only-of-type {\n",
       "        vertical-align: middle;\n",
       "    }\n",
       "\n",
       "    .dataframe tbody tr th {\n",
       "        vertical-align: top;\n",
       "    }\n",
       "\n",
       "    .dataframe thead th {\n",
       "        text-align: right;\n",
       "    }\n",
       "</style>\n",
       "<table border=\"1\" class=\"dataframe\">\n",
       "  <thead>\n",
       "    <tr style=\"text-align: right;\">\n",
       "      <th></th>\n",
       "      <th>0</th>\n",
       "      <th>1</th>\n",
       "    </tr>\n",
       "  </thead>\n",
       "  <tbody>\n",
       "    <tr>\n",
       "      <th>0</th>\n",
       "      <td>0.064262</td>\n",
       "      <td>0.935738</td>\n",
       "    </tr>\n",
       "    <tr>\n",
       "      <th>1</th>\n",
       "      <td>0.080943</td>\n",
       "      <td>0.919057</td>\n",
       "    </tr>\n",
       "    <tr>\n",
       "      <th>2</th>\n",
       "      <td>0.053514</td>\n",
       "      <td>0.946486</td>\n",
       "    </tr>\n",
       "    <tr>\n",
       "      <th>3</th>\n",
       "      <td>0.065980</td>\n",
       "      <td>0.934020</td>\n",
       "    </tr>\n",
       "    <tr>\n",
       "      <th>4</th>\n",
       "      <td>0.053370</td>\n",
       "      <td>0.946630</td>\n",
       "    </tr>\n",
       "    <tr>\n",
       "      <th>...</th>\n",
       "      <td>...</td>\n",
       "      <td>...</td>\n",
       "    </tr>\n",
       "    <tr>\n",
       "      <th>2178767</th>\n",
       "      <td>0.064412</td>\n",
       "      <td>0.935588</td>\n",
       "    </tr>\n",
       "    <tr>\n",
       "      <th>2178768</th>\n",
       "      <td>0.068760</td>\n",
       "      <td>0.931240</td>\n",
       "    </tr>\n",
       "    <tr>\n",
       "      <th>2178769</th>\n",
       "      <td>0.092755</td>\n",
       "      <td>0.907245</td>\n",
       "    </tr>\n",
       "    <tr>\n",
       "      <th>2178770</th>\n",
       "      <td>0.073283</td>\n",
       "      <td>0.926717</td>\n",
       "    </tr>\n",
       "    <tr>\n",
       "      <th>2178771</th>\n",
       "      <td>0.046864</td>\n",
       "      <td>0.953136</td>\n",
       "    </tr>\n",
       "  </tbody>\n",
       "</table>\n",
       "<p>2178772 rows × 2 columns</p>\n",
       "</div>"
      ],
      "text/plain": [
       "                0         1\n",
       "0        0.064262  0.935738\n",
       "1        0.080943  0.919057\n",
       "2        0.053514  0.946486\n",
       "3        0.065980  0.934020\n",
       "4        0.053370  0.946630\n",
       "...           ...       ...\n",
       "2178767  0.064412  0.935588\n",
       "2178768  0.068760  0.931240\n",
       "2178769  0.092755  0.907245\n",
       "2178770  0.073283  0.926717\n",
       "2178771  0.046864  0.953136\n",
       "\n",
       "[2178772 rows x 2 columns]"
      ]
     },
     "execution_count": 44,
     "metadata": {},
     "output_type": "execute_result"
    }
   ],
   "source": [
    "probab_df"
   ]
  },
  {
   "cell_type": "code",
   "execution_count": 45,
   "metadata": {},
   "outputs": [
    {
     "name": "stdout",
     "output_type": "stream",
     "text": [
      "              precision    recall  f1-score   support\n",
      "\n",
      "           0       0.02      0.66      0.04      5287\n",
      "           1       1.00      0.92      0.96   2173485\n",
      "\n",
      "    accuracy                           0.92   2178772\n",
      "   macro avg       0.51      0.79      0.50   2178772\n",
      "weighted avg       1.00      0.92      0.95   2178772\n",
      "\n"
     ]
    }
   ],
   "source": [
    "from sklearn.metrics import confusion_matrix,classification_report\n",
    "cm_df=pd.DataFrame(confusion_matrix(y_pred,y_test))\n",
    "print(classification_report(y_pred,y_test))"
   ]
  },
  {
   "cell_type": "code",
   "execution_count": 46,
   "metadata": {},
   "outputs": [
    {
     "data": {
      "text/plain": [
       "0.9155753791585352"
      ]
     },
     "execution_count": 46,
     "metadata": {},
     "output_type": "execute_result"
    }
   ],
   "source": [
    "score = accuracy_score(y_test,y_pred)\n",
    "score"
   ]
  },
  {
   "cell_type": "markdown",
   "metadata": {},
   "source": [
    "# Saving the model to pickle file "
   ]
  },
  {
   "cell_type": "code",
   "execution_count": 47,
   "metadata": {},
   "outputs": [],
   "source": [
    "import pickle\n",
    "pickle_file=open(\"classifier_parking_citations_corrupted.pkl\",\"wb\")\n",
    "pickle.dump(classifier,pickle_file)\n",
    "pickle_file.close()"
   ]
  },
  {
   "cell_type": "code",
   "execution_count": 48,
   "metadata": {},
   "outputs": [
    {
     "data": {
      "text/plain": [
       "Index(['Issue time', 'Marked Time', 'Plate Expiry Date', 'Agency',\n",
       "       'Fine amount'],\n",
       "      dtype='object')"
      ]
     },
     "execution_count": 48,
     "metadata": {},
     "output_type": "execute_result"
    }
   ],
   "source": [
    "X.columns"
   ]
  },
  {
   "cell_type": "code",
   "execution_count": 53,
   "metadata": {},
   "outputs": [
    {
     "data": {
      "text/plain": [
       "<bound method NDFrame.head of          Issue time  Marked Time  Plate Expiry Date  Agency  Fine amount\n",
       "4             115.0  1055.147196      200316.000000     1.0         93.0\n",
       "6            1710.0  1055.147196      201605.000000     1.0        163.0\n",
       "10           1100.0  1055.147196      201511.000000     1.0         93.0\n",
       "11           1105.0  1055.147196      201701.000000     1.0         93.0\n",
       "14           1055.0  1055.147196      201605.000000    54.0         68.0\n",
       "...             ...          ...                ...     ...          ...\n",
       "8726006       810.0  1055.147196      186782.570357    53.0         63.0\n",
       "8726008      1244.0  1055.147196      201909.000000    53.0         63.0\n",
       "8726010      1350.0  1055.147196      201905.000000    53.0         63.0\n",
       "8726011      1354.0  1055.147196      201912.000000    53.0         63.0\n",
       "8726013      1414.0  1055.147196      201905.000000    53.0         63.0\n",
       "\n",
       "[4357544 rows x 5 columns]>"
      ]
     },
     "execution_count": 53,
     "metadata": {},
     "output_type": "execute_result"
    }
   ],
   "source": [
    "X.head"
   ]
  },
  {
   "cell_type": "code",
   "execution_count": null,
   "metadata": {},
   "outputs": [],
   "source": []
  }
 ],
 "metadata": {
  "kernelspec": {
   "display_name": "Python 3",
   "language": "python",
   "name": "python3"
  },
  "language_info": {
   "codemirror_mode": {
    "name": "ipython",
    "version": 3
   },
   "file_extension": ".py",
   "mimetype": "text/x-python",
   "name": "python",
   "nbconvert_exporter": "python",
   "pygments_lexer": "ipython3",
   "version": "3.8.5"
  }
 },
 "nbformat": 4,
 "nbformat_minor": 2
}
